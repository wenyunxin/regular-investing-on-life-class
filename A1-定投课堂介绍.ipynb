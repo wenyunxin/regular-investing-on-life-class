{
 "cells": [
  {
   "cell_type": "markdown",
   "metadata": {},
   "source": [
    "定投人生课堂（简称“**定投课堂**”）是由李笑来老师创建的投资成长社群"
   ]
  },
  {
   "cell_type": "markdown",
   "metadata": {},
   "source": [
    "## 定投课堂是什么"
   ]
  },
  {
   "cell_type": "markdown",
   "metadata": {},
   "source": [
    "- 长期主义者定投未来的社群。\n",
    "- 地球上唯一一家零开润、零管理费的投资社群。\n",
    "- 链接终身学习者、极致践行者的财商学院。\n",
    "- 得到专栏《通往财富自由之路》第二季 实战篇。\n",
    "- 《把时间当做朋友》投资篇。\n",
    "- 《定投改变命运》实践社群\n",
    "- 社群成员的场外赚钱通道。"
   ]
  },
  {
   "cell_type": "markdown",
   "metadata": {},
   "source": [
    "在定投课堂里能够完成自己定制的定投计划的社群成员，可以参与b.watch的股份分红。\n",
    "\n",
    "概括来讲，定投课堂就是社群成员跟笑来老师共同学习成长的地方，社群成员一起慢慢变富。\n",
    "\n",
    "多践行，多赚钱。"
   ]
  },
  {
   "cell_type": "markdown",
   "metadata": {},
   "source": [
    "## 定投课堂能为社群成员提供什么服务"
   ]
  },
  {
   "cell_type": "markdown",
   "metadata": {},
   "source": [
    "### 服务1 笑来老师亲授课程"
   ]
  },
  {
   "cell_type": "markdown",
   "metadata": {},
   "source": [
    "- 上课频次：每周3~4次课\n",
    "- 投资课、笑来老师的分享课等精选高质量课程\n",
    "- 建群以来所有课程存档入群即可学习"
   ]
  }
 ],
 "metadata": {
  "kernelspec": {
   "display_name": "Python 3",
   "language": "python",
   "name": "python3"
  },
  "language_info": {
   "codemirror_mode": {
    "name": "ipython",
    "version": 3
   },
   "file_extension": ".py",
   "mimetype": "text/x-python",
   "name": "python",
   "nbconvert_exporter": "python",
   "pygments_lexer": "ipython3",
   "version": "3.8.3"
  }
 },
 "nbformat": 4,
 "nbformat_minor": 4
}
